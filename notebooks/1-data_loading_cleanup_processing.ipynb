{
 "cells": [
  {
   "cell_type": "markdown",
   "metadata": {},
   "source": [
    "# Data loading, cleanup and processing"
   ]
  },
  {
   "cell_type": "markdown",
   "metadata": {},
   "source": [
    "The first step to a ML project is to obtain the dataset you will be working with. \n",
    "There are many repositories for materials science-specific data (whether online or offline)---consult the accompanying paper for a list of the more commonly used ones.\n",
    "\n",
    "Once you have identified the repository and dataset you will use for your project, you will have to download it to your local machine, or establish a way to reliably access the dataset.\n",
    "Consult the documentation of the repository for how to do this.\n",
    "\n",
    "For this tutorial, we have collected heat capacity ($C_p$) data from the [NIST-JANAF Thermochemical Tables](https://doi.org/10.18434/T42S31)."
   ]
  },
  {
   "cell_type": "code",
   "execution_count": 1,
   "metadata": {},
   "outputs": [],
   "source": [
    "import os\n",
    "import numpy as np\n",
    "import pandas as pd\n",
    "import matplotlib.pyplot as plt\n",
    "%matplotlib inline\n",
    "%config InlineBackend.figure_format='retina'\n",
    "\n",
    "#from pandas_profiling import ProfileReport"
   ]
  },
  {
   "cell_type": "markdown",
   "metadata": {},
   "source": [
    "## Load data\n",
    "\n",
    "Using Pandas, we read in the dataset into a DataFrame. \n",
    "\n",
    "We also print the shape of the DataFrame, which indicates the number of rows and columns in this dataset."
   ]
  },
  {
   "cell_type": "code",
   "execution_count": 2,
   "metadata": {},
   "outputs": [
    {
     "name": "stdout",
     "output_type": "stream",
     "text": [
      "Original DataFrame shape: (4583, 3)\n"
     ]
    }
   ],
   "source": [
    "PATH = os.getcwd()\n",
    "data_path = os.path.join(PATH, '../data/cp_data_demo.csv')\n",
    "\n",
    "df = pd.read_csv(data_path)\n",
    "print(f'Original DataFrame shape: {df.shape}')"
   ]
  },
  {
   "cell_type": "markdown",
   "metadata": {},
   "source": [
    "This means that our input dataset has 4583 data samples, each with 3 variables."
   ]
  },
  {
   "cell_type": "markdown",
   "metadata": {},
   "source": [
    "## Examine the data\n",
    "\n",
    "We examine some rows and look at the data's basic statistics.\n",
    "\n",
    "We see that the dataset contains information about the formula, measurement condition (in this case, temperature in K), and the target property, heat capacity (in J/(mol * K))."
   ]
  },
  {
   "cell_type": "code",
   "execution_count": 3,
   "metadata": {},
   "outputs": [
    {
     "data": {
      "text/html": [
       "<div>\n",
       "<style scoped>\n",
       "    .dataframe tbody tr th:only-of-type {\n",
       "        vertical-align: middle;\n",
       "    }\n",
       "\n",
       "    .dataframe tbody tr th {\n",
       "        vertical-align: top;\n",
       "    }\n",
       "\n",
       "    .dataframe thead th {\n",
       "        text-align: right;\n",
       "    }\n",
       "</style>\n",
       "<table border=\"1\" class=\"dataframe\">\n",
       "  <thead>\n",
       "    <tr style=\"text-align: right;\">\n",
       "      <th></th>\n",
       "      <th>FORMULA</th>\n",
       "      <th>CONDITION: Temperature (K)</th>\n",
       "      <th>PROPERTY: Heat Capacity (J/mol K)</th>\n",
       "    </tr>\n",
       "  </thead>\n",
       "  <tbody>\n",
       "    <tr>\n",
       "      <th>0</th>\n",
       "      <td>B2O3</td>\n",
       "      <td>1400.0</td>\n",
       "      <td>134.306</td>\n",
       "    </tr>\n",
       "    <tr>\n",
       "      <th>1</th>\n",
       "      <td>B2O3</td>\n",
       "      <td>1300.0</td>\n",
       "      <td>131.294</td>\n",
       "    </tr>\n",
       "    <tr>\n",
       "      <th>2</th>\n",
       "      <td>B2O3</td>\n",
       "      <td>1200.0</td>\n",
       "      <td>128.072</td>\n",
       "    </tr>\n",
       "    <tr>\n",
       "      <th>3</th>\n",
       "      <td>B2O3</td>\n",
       "      <td>1100.0</td>\n",
       "      <td>124.516</td>\n",
       "    </tr>\n",
       "    <tr>\n",
       "      <th>4</th>\n",
       "      <td>B2O3</td>\n",
       "      <td>1000.0</td>\n",
       "      <td>120.625</td>\n",
       "    </tr>\n",
       "    <tr>\n",
       "      <th>5</th>\n",
       "      <td>B2O3</td>\n",
       "      <td>900.0</td>\n",
       "      <td>116.190</td>\n",
       "    </tr>\n",
       "    <tr>\n",
       "      <th>6</th>\n",
       "      <td>B2O3</td>\n",
       "      <td>800.0</td>\n",
       "      <td>111.169</td>\n",
       "    </tr>\n",
       "    <tr>\n",
       "      <th>7</th>\n",
       "      <td>B2O3</td>\n",
       "      <td>723.0</td>\n",
       "      <td>106.692</td>\n",
       "    </tr>\n",
       "    <tr>\n",
       "      <th>8</th>\n",
       "      <td>B2O3</td>\n",
       "      <td>700.0</td>\n",
       "      <td>105.228</td>\n",
       "    </tr>\n",
       "    <tr>\n",
       "      <th>9</th>\n",
       "      <td>B2O3</td>\n",
       "      <td>600.0</td>\n",
       "      <td>98.115</td>\n",
       "    </tr>\n",
       "  </tbody>\n",
       "</table>\n",
       "</div>"
      ],
      "text/plain": [
       "  FORMULA  CONDITION: Temperature (K)  PROPERTY: Heat Capacity (J/mol K)\n",
       "0    B2O3                      1400.0                            134.306\n",
       "1    B2O3                      1300.0                            131.294\n",
       "2    B2O3                      1200.0                            128.072\n",
       "3    B2O3                      1100.0                            124.516\n",
       "4    B2O3                      1000.0                            120.625\n",
       "5    B2O3                       900.0                            116.190\n",
       "6    B2O3                       800.0                            111.169\n",
       "7    B2O3                       723.0                            106.692\n",
       "8    B2O3                       700.0                            105.228\n",
       "9    B2O3                       600.0                             98.115"
      ]
     },
     "execution_count": 3,
     "metadata": {},
     "output_type": "execute_result"
    }
   ],
   "source": [
    "df.head(10)"
   ]
  },
  {
   "cell_type": "markdown",
   "metadata": {},
   "source": [
    "First thing you should notice: we have many observations of the same compound (B2O3) but measured at different measurement conditions, resulting in a different property value.\n",
    "\n",
    "We can get some simple summary statistics of the DataFrame by calling the `.describe()` method on the database."
   ]
  },
  {
   "cell_type": "code",
   "execution_count": 4,
   "metadata": {},
   "outputs": [
    {
     "data": {
      "text/html": [
       "<div>\n",
       "<style scoped>\n",
       "    .dataframe tbody tr th:only-of-type {\n",
       "        vertical-align: middle;\n",
       "    }\n",
       "\n",
       "    .dataframe tbody tr th {\n",
       "        vertical-align: top;\n",
       "    }\n",
       "\n",
       "    .dataframe thead th {\n",
       "        text-align: right;\n",
       "    }\n",
       "</style>\n",
       "<table border=\"1\" class=\"dataframe\">\n",
       "  <thead>\n",
       "    <tr style=\"text-align: right;\">\n",
       "      <th></th>\n",
       "      <th>CONDITION: Temperature (K)</th>\n",
       "      <th>PROPERTY: Heat Capacity (J/mol K)</th>\n",
       "    </tr>\n",
       "  </thead>\n",
       "  <tbody>\n",
       "    <tr>\n",
       "      <th>count</th>\n",
       "      <td>4579.000000</td>\n",
       "      <td>4576.000000</td>\n",
       "    </tr>\n",
       "    <tr>\n",
       "      <th>mean</th>\n",
       "      <td>1170.920341</td>\n",
       "      <td>107.483627</td>\n",
       "    </tr>\n",
       "    <tr>\n",
       "      <th>std</th>\n",
       "      <td>741.254366</td>\n",
       "      <td>67.019055</td>\n",
       "    </tr>\n",
       "    <tr>\n",
       "      <th>min</th>\n",
       "      <td>-2000.000000</td>\n",
       "      <td>-102.215000</td>\n",
       "    </tr>\n",
       "    <tr>\n",
       "      <th>25%</th>\n",
       "      <td>600.000000</td>\n",
       "      <td>61.312500</td>\n",
       "    </tr>\n",
       "    <tr>\n",
       "      <th>50%</th>\n",
       "      <td>1000.000000</td>\n",
       "      <td>89.497000</td>\n",
       "    </tr>\n",
       "    <tr>\n",
       "      <th>75%</th>\n",
       "      <td>1600.000000</td>\n",
       "      <td>135.645000</td>\n",
       "    </tr>\n",
       "    <tr>\n",
       "      <th>max</th>\n",
       "      <td>4700.000000</td>\n",
       "      <td>494.967000</td>\n",
       "    </tr>\n",
       "  </tbody>\n",
       "</table>\n",
       "</div>"
      ],
      "text/plain": [
       "       CONDITION: Temperature (K)  PROPERTY: Heat Capacity (J/mol K)\n",
       "count                 4579.000000                        4576.000000\n",
       "mean                  1170.920341                         107.483627\n",
       "std                    741.254366                          67.019055\n",
       "min                  -2000.000000                        -102.215000\n",
       "25%                    600.000000                          61.312500\n",
       "50%                   1000.000000                          89.497000\n",
       "75%                   1600.000000                         135.645000\n",
       "max                   4700.000000                         494.967000"
      ]
     },
     "execution_count": 4,
     "metadata": {},
     "output_type": "execute_result"
    }
   ],
   "source": [
    "df.describe()"
   ]
  },
  {
   "cell_type": "markdown",
   "metadata": {},
   "source": [
    "There used to be a nice `pandas-profiling` library, but it was replaced by `ydata-profiling` and this has some incompatibilities with our library, so we'll skip this step. If possible, this would be a great tool to include in the future because it is an excellent way to explore data for problems. "
   ]
  },
  {
   "cell_type": "code",
   "execution_count": 5,
   "metadata": {},
   "outputs": [],
   "source": [
    "#profile = ProfileReport(df.copy(), title='Pandas Profiling Report of Cp dataset', html={'style':{'full_width':True}})\n",
    "#profile.to_widgets()"
   ]
  },
  {
   "cell_type": "markdown",
   "metadata": {},
   "source": [
    "Notice a few things from the profile report:\n",
    "* We have some missing cells in the dataset (\"Overview\" tab)\n",
    "* We have some unrealistic Temperature and Heat Capacity values in the dataset (\"Variables\" tab)\n",
    "* We have some missing Temperature, Formula and Heat Capacity values in the dataset (\"Variables\" tab)\n",
    "\n",
    "Also notice that on the \"Overview\" tab, there is the following warning: `FORMULA` has a high cardinality: 245 distinct values.\n",
    "\n",
    "Cardinality is the number of distinct values in a column of a table, relative to the number of rows in the table.\n",
    "In our dataset, we have a total of 4583 data observations, but only 245 distinct formulae.\n",
    "We will have to keep this in mind later, when we process and split the dataset."
   ]
  },
  {
   "cell_type": "markdown",
   "metadata": {},
   "source": [
    "## Rename the column names for brevity"
   ]
  },
  {
   "cell_type": "code",
   "execution_count": 6,
   "metadata": {},
   "outputs": [
    {
     "data": {
      "text/plain": [
       "Index(['FORMULA', 'CONDITION: Temperature (K)',\n",
       "       'PROPERTY: Heat Capacity (J/mol K)'],\n",
       "      dtype='object')"
      ]
     },
     "execution_count": 6,
     "metadata": {},
     "output_type": "execute_result"
    }
   ],
   "source": [
    "df.columns"
   ]
  },
  {
   "cell_type": "code",
   "execution_count": 7,
   "metadata": {},
   "outputs": [
    {
     "data": {
      "text/plain": [
       "Index(['formula', 'T', 'Cp'], dtype='object')"
      ]
     },
     "execution_count": 7,
     "metadata": {},
     "output_type": "execute_result"
    }
   ],
   "source": [
    "rename_dict = {'FORMULA': 'formula',\n",
    "               'CONDITION: Temperature (K)': 'T',\n",
    "               'PROPERTY: Heat Capacity (J/mol K)': 'Cp'}\n",
    "df = df.rename(columns=rename_dict)\n",
    "df.columns"
   ]
  },
  {
   "cell_type": "markdown",
   "metadata": {},
   "source": [
    "## Check for and remove `NaN` values"
   ]
  },
  {
   "cell_type": "markdown",
   "metadata": {},
   "source": [
    "Here we can use the built-in Pandas methods to check for `NaN` values in the dataset, which are missing values.\n",
    "We then remove the dataset rows which contain `NaN` values."
   ]
  },
  {
   "cell_type": "code",
   "execution_count": 8,
   "metadata": {},
   "outputs": [
    {
     "name": "stdout",
     "output_type": "stream",
     "text": [
      "DataFrame shape before dropping NaNs: (4583, 3)\n",
      "DataFrame shape after dropping NaNs: (4570, 3)\n"
     ]
    }
   ],
   "source": [
    "# Check for NaNs in the respective dataset columns, and get the indices\n",
    "df2 = df.copy()\n",
    "bool_nans_formula = df2['formula'].isnull()\n",
    "bool_nans_T = df2['T'].isnull()\n",
    "bool_nans_Cp = df2['Cp'].isnull()\n",
    "\n",
    "# Drop the rows of the DataFrame which contain NaNs\n",
    "df2 = df2.drop(df2.loc[bool_nans_formula].index, axis=0)\n",
    "df2 = df2.drop(df2.loc[bool_nans_T].index, axis=0)\n",
    "df2 = df2.drop(df2.loc[bool_nans_Cp].index, axis=0)\n",
    "\n",
    "print(f'DataFrame shape before dropping NaNs: {df.shape}')\n",
    "print(f'DataFrame shape after dropping NaNs: {df2.shape}')"
   ]
  },
  {
   "cell_type": "markdown",
   "metadata": {},
   "source": [
    "Pandas also includes the convenient built-in method `.dropna()` to check for and remove `NaNs` in-place:"
   ]
  },
  {
   "cell_type": "code",
   "execution_count": 9,
   "metadata": {},
   "outputs": [
    {
     "name": "stdout",
     "output_type": "stream",
     "text": [
      "DataFrame shape before dropping NaNs: (4583, 3)\n",
      "DataFrame shape after dropping NaNs: (4570, 3)\n"
     ]
    }
   ],
   "source": [
    "df3 = df.copy()\n",
    "df3 = df3.dropna(axis=0, how='any')\n",
    "\n",
    "print(f'DataFrame shape before dropping NaNs: {df.shape}')\n",
    "print(f'DataFrame shape after dropping NaNs: {df3.shape}')\n",
    "\n",
    "df = df3.copy()"
   ]
  },
  {
   "cell_type": "markdown",
   "metadata": {},
   "source": [
    "## Check for and remove unrealistic values\n",
    "\n",
    "In some cases, you might also get data values that simply don't make sense.\n",
    "For our dase, this could be negative values in the temperature or heat capacity values."
   ]
  },
  {
   "cell_type": "code",
   "execution_count": 10,
   "metadata": {},
   "outputs": [
    {
     "name": "stdout",
     "output_type": "stream",
     "text": [
      "DataFrame shape after dropping unrealistic values: (4564, 3)\n"
     ]
    }
   ],
   "source": [
    "bool_invalid_T = df['T'] < 0\n",
    "bool_invalid_Cp = df['Cp'] < 0\n",
    "\n",
    "df = df.drop(df.loc[bool_invalid_T].index, axis=0)\n",
    "df = df.drop(df.loc[bool_invalid_Cp].index, axis=0)\n",
    "\n",
    "print(f'DataFrame shape after dropping unrealistic values: {df.shape}')"
   ]
  },
  {
   "cell_type": "markdown",
   "metadata": {},
   "source": [
    "## Check for and remove duplicate entries\n",
    "\n",
    "Finally, you should also remove duplicate entries to avoid data leakage."
   ]
  },
  {
   "cell_type": "code",
   "execution_count": 11,
   "metadata": {},
   "outputs": [
    {
     "name": "stdout",
     "output_type": "stream",
     "text": [
      "DataFrame shape after dropping duplicates: (4547, 3)\n"
     ]
    }
   ],
   "source": [
    "df = df.drop_duplicates()\n",
    "\n",
    "print(f'DataFrame shape after dropping duplicates: {df.shape}')"
   ]
  },
  {
   "cell_type": "markdown",
   "metadata": {},
   "source": [
    "## Save cleaned data to csv\n",
    "\n",
    "Finally, after cleaning and processing the data, you can save it to disk in a cleaned state for you to use later.\n",
    "\n",
    "Pandas allows us to save our data as a comma separated value `.csv` file. "
   ]
  },
  {
   "cell_type": "code",
   "execution_count": 12,
   "metadata": {},
   "outputs": [],
   "source": [
    "out_path = os.path.join(PATH, '../data/cp_data_cleaned.csv')\n",
    "df.to_csv(out_path, index=False)"
   ]
  },
  {
   "cell_type": "markdown",
   "metadata": {},
   "source": [
    "Note, your data can be saved in other file formats (such as hdf5) or in databases (such as SQL), but we will not go into the details of these formats.\n",
    "\n",
    "Typically, the amount of data you can gather for your ML project isn't large enough to warrant these approaches."
   ]
  }
 ],
 "metadata": {
  "kernelspec": {
   "display_name": "Python 3 (ipykernel)",
   "language": "python",
   "name": "python3"
  },
  "language_info": {
   "codemirror_mode": {
    "name": "ipython",
    "version": 3
   },
   "file_extension": ".py",
   "mimetype": "text/x-python",
   "name": "python",
   "nbconvert_exporter": "python",
   "pygments_lexer": "ipython3",
   "version": "3.7.12"
  }
 },
 "nbformat": 4,
 "nbformat_minor": 4
}
